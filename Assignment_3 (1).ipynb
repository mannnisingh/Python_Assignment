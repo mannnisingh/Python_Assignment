{
  "nbformat": 4,
  "nbformat_minor": 0,
  "metadata": {
    "colab": {
      "provenance": []
    },
    "kernelspec": {
      "name": "python3",
      "display_name": "Python 3"
    },
    "language_info": {
      "name": "python"
    }
  },
  "cells": [
    {
      "cell_type": "markdown",
      "source": [
        "1. Why are functions advantageous to have in your programs?\n",
        "\n",
        "Ans.Functions are advantageous to have in programs for several reasons:\n",
        "\n",
        "1. **Modularity**: Functions allow you to break down your code into smaller, more manageable pieces. Each function can encapsulate a specific task or set of tasks, making the code easier to understand, debug, and maintain. This modularity also promotes code reusability, as functions can be called multiple times throughout the program or in different programs altogether.\n",
        "\n",
        "2. **Abstraction**: Functions provide a level of abstraction by hiding the implementation details of a particular task. This allows you to focus on the higher-level logic of your program without getting bogged down in the nitty-gritty details of how individual tasks are performed.\n",
        "\n",
        "3. **Readability**: Well-named functions can serve as a form of documentation, making the code more readable and understandable to other developers (including your future self). By giving descriptive names to functions, you can convey their purpose and functionality at a glance.\n",
        "\n",
        "4. **Code Organization**: Functions help organize your code into logical units, making it easier to navigate and maintain. This organization becomes especially important as programs grow larger and more complex.\n",
        "\n",
        "5. **Testing and Debugging**: Functions make it easier to test and debug your code. Since each function performs a specific task, you can isolate and test individual pieces of functionality independently. This makes it easier to identify and fix bugs, as well as verify that each function behaves as expected.\n",
        "\n",
        "6. **Scalability**: Using functions allows you to scale your code more easily. As your program grows in size and complexity, you can add new functions to handle additional functionality without having to rewrite existing code.\n",
        "\n",
        "Overall, functions are a fundamental building block of programming that promote code reuse, readability, maintainability, and scalability."
      ],
      "metadata": {
        "id": "hNrvAb4iWF9G"
      }
    },
    {
      "cell_type": "markdown",
      "source": [
        "2. When does the code in a function run: when it&#39;s specified or when it&#39;s called?\n",
        "\n",
        "Ans.The code within a function runs when the function is called, not when it is specified.\n",
        "\n",
        "When you define a function in your code, you're essentially creating a reusable block of code that will execute when the function is invoked or called. Until the function is called, the code inside it remains dormant. Once the function is called, the program jumps to the function's definition and executes the code within it, following the flow of execution specified by the function's logic.\n",
        "\n",
        "Here's a simple example in Python to illustrate this:\n",
        "\n",
        "```python\n",
        "def my_function():\n",
        "    print(\"This is inside my_function\")\n",
        "\n",
        "print(\"Before calling the function\")\n",
        "\n",
        "my_function()  # Function call\n",
        "\n",
        "print(\"After calling the function\")\n",
        "```\n",
        "\n",
        "In this example, \"Before calling the function\" is printed first, followed by the function call `my_function()`, which then prints \"This is inside my_function\". Finally, \"After calling the function\" is printed. This demonstrates that the code inside the function runs when the function is called, not when it is defined."
      ],
      "metadata": {
        "id": "n8zzpoylWqQK"
      }
    },
    {
      "cell_type": "markdown",
      "source": [
        "3. What statement creates a function?\n",
        "\n",
        "Ans.In most programming languages, including Python, the statement that creates a function is the `def` statement.\n",
        "\n",
        "Here's the basic syntax in Python:\n",
        "\n",
        "```python\n",
        "def function_name(parameters):\n",
        "    \"\"\"Optional docstring describing the function.\"\"\"\n",
        "    # Function body: code block\n",
        "    # Indented lines are part of the function\n",
        "    # Execute specific tasks here\n",
        "    return value  # Optional return statement\n",
        "```\n",
        "\n",
        "Let's break down the components:\n",
        "\n",
        "- `def`: This keyword is used to define a function.\n",
        "- `function_name`: This is the name of the function. You can choose any valid name, following the naming rules of the programming language.\n",
        "- `(parameters)`: These are the input parameters or arguments that the function takes. They are optional. If the function doesn't take any parameters, you still need to include empty parentheses.\n",
        "- `\"\"\"Optional docstring describing the function.\"\"\"`: This is an optional docstring (documentation string) that provides a description of the function's purpose, usage, and other details. It's good practice to include docstrings to document your functions.\n",
        "- `return value`: This is an optional statement that specifies the value(s) that the function should return. If omitted, the function returns `None`.\n",
        "\n",
        "Here's a simple example:\n",
        "\n",
        "```python\n",
        "def greet(name):\n",
        "    \"\"\"This function greets the person with the given name.\"\"\"\n",
        "    return f\"Hello, {name}!\"\n",
        "\n",
        "print(greet(\"Alice\"))\n",
        "# Output: Hello, Alice!\n",
        "```\n"
      ],
      "metadata": {
        "id": "NFmCSFYoXBXT"
      }
    },
    {
      "cell_type": "markdown",
      "source": [
        "4. What is the difference between a function and a function call?\n",
        "\n",
        "Ans.The difference between a function and a function call lies in their roles and actions within a program:\n",
        "\n",
        "1. **Function**:\n",
        "    - A function is a block of code that performs a specific task or set of tasks.\n",
        "    - It is defined using a `def` statement in most programming languages, such as Python.\n",
        "    - Functions can have parameters (input values) and can optionally return a value as output.\n",
        "    - Example:\n",
        "      ```python\n",
        "      def add(a, b):\n",
        "          return a + b\n",
        "      ```\n",
        "\n",
        "2. **Function Call**:\n",
        "    - A function call is an instruction that tells the program to execute the code within a particular function.\n",
        "    - It involves providing the function name, along with any required arguments, in order to trigger the execution of the function's code.\n",
        "    - Function calls are where the actual work of the function is done. It's when the function's code runs.\n",
        "    - Example:\n",
        "      ```python\n",
        "      result = add(3, 5)\n",
        "      ```\n"
      ],
      "metadata": {
        "id": "PF-tGOd5Xg-0"
      }
    },
    {
      "cell_type": "markdown",
      "source": [
        "5. How many global scopes are there in a Python program? How many local scopes?\n",
        "\n",
        "Ans.In Python, there is only one global scope per program execution. This global scope includes all the variables and functions defined at the top level of the program, outside of any functions or classes. Variables and functions defined in the global scope are accessible from anywhere within the program.\n",
        "\n",
        "On the other hand, local scopes are created whenever a function is called. Each function call creates its own local scope, which includes the parameters of the function and any variables defined within the function. These variables are only accessible within the function's body and are not visible to code outside of the function.\n",
        "\n",
        "So, to answer your question:\n",
        "\n",
        "- **Global Scopes**: There is one global scope per Python program execution.\n",
        "  \n",
        "- **Local Scopes**: The number of local scopes depends on the number of function calls made during the program execution. Each function call creates its own local scope, and these scopes are destroyed once the function finishes executing. Therefore, the number of local scopes can vary dynamically during the program's execution."
      ],
      "metadata": {
        "id": "ez98AkDrXxMB"
      }
    },
    {
      "cell_type": "markdown",
      "source": [
        "5. How many global scopes are there in a Python program? How many local scopes?\n",
        "\n",
        "Ans.In Python, there is one global scope per program execution, and the number of local scopes can vary based on the number of function calls made during the execution of the program.\n",
        "\n",
        "- **Global Scopes**: There is only one global scope per Python program execution. This global scope includes variables, functions, and other objects defined at the top level of the program, outside of any functions or classes.\n",
        "\n",
        "- **Local Scopes**: Each time a function is called, a new local scope is created for that function. This local scope includes the parameters of the function and any variables defined within the function. Once the function finishes executing, its local scope is destroyed. Therefore, the number of local scopes depends on the number of function calls made during the execution of the program."
      ],
      "metadata": {
        "id": "fomgP-2xYBn_"
      }
    },
    {
      "cell_type": "markdown",
      "source": [
        "6. What happens to variables in a local scope when the function call returns?\n",
        "\n",
        "Ans.When a function call returns, the local scope associated with that function is destroyed, and any variables defined within that local scope cease to exist. In other words, local variables are only accessible and meaningful within the function in which they are defined. Once the function finishes executing and returns a value (or finishes without returning a value), the local variables and the local scope are automatically cleaned up by the Python interpreter.\n",
        "\n",
        "Consider the following example:\n",
        "\n",
        "```python\n",
        "def my_function():\n",
        "    x = 10  # This is a local variable\n",
        "    print(\"Inside the function:\", x)\n",
        "\n",
        "my_function()  # Function call\n",
        "\n",
        "# Attempting to access the local variable x outside the function will raise a NameError\n",
        "print(\"Outside the function:\", x)\n",
        "```\n"
      ],
      "metadata": {
        "id": "YmYiqmUtYXtY"
      }
    },
    {
      "cell_type": "markdown",
      "source": [
        "7. What is the concept of a return value? Is it possible to have a return value in an expression?\n",
        "\n",
        "Ans.The concept of a return value refers to the value that a function sends back to the code that called it. When a function is called, it may perform some computations and produce a result. This result, or value, can be sent back to the calling code using a `return` statement.\n",
        "\n",
        "In Python, the `return` statement is used to specify the value that the function should return. It can be followed by an expression, which evaluates to the value that will be returned. Once the `return` statement is executed, the function immediately exits, and control returns to the point in the code where the function was called.\n",
        "\n",
        "Here's a simple example:\n",
        "\n",
        "```python\n",
        "def add(a, b):\n",
        "    return a + b\n",
        "\n",
        "result = add(3, 5)\n",
        "print(result)  # Output: 8\n",
        "```\n",
        "\n",
        "In this example, the `add` function takes two parameters `a` and `b` and returns their sum using the `return` statement with the expression `a + b`. When the function is called with `add(3, 5)`, it returns the result `8`, which is then assigned to the variable `result` and printed.\n",
        "\n",
        "Yes, it is possible to have a return value in an expression. This means that the expression that follows the `return` statement is evaluated, and the resulting value is returned by the function. This allows for flexibility in returning different values based on conditions or computations within the function."
      ],
      "metadata": {
        "id": "TTl-VtURYkMb"
      }
    },
    {
      "cell_type": "markdown",
      "source": [
        "8. If a function does not have a return statement, what is the return value of a call to that function?\n",
        "\n",
        "\n",
        "Ans.If a function does not have a `return` statement, or if it exits without executing a `return` statement, the return value of a call to that function is `None`.\n",
        "\n",
        "In Python, `None` is a special constant that represents the absence of a value or a null value. When a function doesn't explicitly return a value, Python automatically returns `None` at the end of the function execution.\n",
        "\n",
        "Here's an example:\n",
        "\n",
        "```python\n",
        "def my_function():\n",
        "    print(\"This function does not have a return statement\")\n",
        "\n",
        "result = my_function()\n",
        "print(result)  \n",
        "# Output: None\n",
        "```\n",
        "\n"
      ],
      "metadata": {
        "id": "UK6LBQ0eZOgp"
      }
    },
    {
      "cell_type": "markdown",
      "source": [
        "9. How do you make a function variable refer to the global variable?\n",
        "\n",
        "Ans.To make a function variable refer to a global variable in Python, you can use the `global` keyword within the function. This allows you to access and modify global variables from within the function's local scope.\n",
        "\n",
        "Here's an example:\n",
        "\n",
        "```python\n",
        "global_var = 10\n",
        "\n",
        "def my_function():\n",
        "    global global_var\n",
        "    global_var = 20\n",
        "\n",
        "print(\"Before calling the function:\", global_var)\n",
        "my_function()\n",
        "print(\"After calling the function:\", global_var)\n",
        "```\n",
        "\n",
        "In this example, `global_var` is a global variable with the initial value of `10`. Inside the `my_function()` function, the `global` keyword is used to indicate that `global_var` refers to the global variable of the same name. When the function is called, it modifies the value of the global variable `global_var` to `20`. As a result, when printing the value of `global_var` before and after calling the function, you can observe the change reflected in the global variable.\n",
        "\n",
        "It's important to use the `global` keyword only when you need to modify global variables within a function. In general, it's considered good practice to avoid relying on global variables and instead pass necessary values as parameters to functions."
      ],
      "metadata": {
        "id": "qVLp7WqRZxh_"
      }
    },
    {
      "cell_type": "markdown",
      "source": [
        "10. What is the data type of None?\n",
        "\n",
        "Ans.In Python, `None` is a special constant representing the absence of a value or a null value. It is often used to signify that a variable or expression does not have a meaningful value. `None` is a singleton object of the `NoneType` data type.\n",
        "\n",
        "You can check the type of `None` using the `type()` function:\n",
        "\n",
        "```python\n",
        "print(type(None))  \n",
        "\n",
        "# Output: <class 'NoneType'>\n",
        "```\n",
        "\n",
        "This will print `<class 'NoneType'>`, indicating that `None` belongs to the `NoneType` data type."
      ],
      "metadata": {
        "id": "Sh3SQ7lfaBJJ"
      }
    },
    {
      "cell_type": "markdown",
      "source": [
        "11. What does the sentence import areallyourpetsnamederic do?\n",
        "\n",
        "Ans.The sentence \"import areallyourpetsnamederic\" by itself doesn't have any inherent meaning or functionality in Python. However, if \"areallyourpetsnamederic\" were to be the name of a valid Python module (a file containing Python code), then using the `import` statement would import that module into the current Python script or interactive session.\n",
        "\n",
        "For example, if you had a Python file named `areallyourpetsnamederic.py` containing Python code defining functions, classes, or variables, you could import it into another Python script or session using the `import` statement. The content of the module would then be accessible using dot notation.\n",
        "\n",
        "Here's an example:\n",
        "\n",
        "Suppose `areallyyourpetsnamederic.py` contains the following code:\n",
        "\n",
        "```python\n",
        "def greet(name):\n",
        "    return f\"Hello, {name}!\"\n",
        "```\n",
        "\n",
        "Then, in another Python script or session, you could do:\n",
        "\n",
        "```python\n",
        "import areallyyourpetsnamederic\n",
        "\n",
        "print(areallyyourpetsnamederic.greet(\"Eric\"))\n",
        "```\n",
        "\n",
        "This would output: `\"Hello, Eric!\"`\n",
        "\n",
        "However, if \"areallyyourpetsnamederic\" is not a valid Python module, attempting to import it will result in an `ImportError`.\n"
      ],
      "metadata": {
        "id": "sKK7vL2taSCA"
      }
    },
    {
      "cell_type": "markdown",
      "source": [
        "12. If you had a bacon() feature in a spam module, what would you call it after importing spam?\n",
        "\n",
        "Ans.After importing the `spam` module, you can call the `bacon()` feature using dot notation, like this:\n",
        "\n",
        "```python\n",
        "import spam\n",
        "\n",
        "spam.bacon()\n",
        "```\n",
        "\n",
        "This assumes that `bacon()` is a function defined within the `spam` module. Using dot notation (`spam.bacon()`) allows you to access the `bacon()` function within the `spam` module after importing it."
      ],
      "metadata": {
        "id": "WBWwlg80cq1I"
      }
    },
    {
      "cell_type": "markdown",
      "source": [
        "13. What can you do to save a programme from crashing if it encounters an error?\n",
        "\n",
        "Ans.To prevent a program from crashing when it encounters an error, you can implement error handling mechanisms such as exception handling. In Python, this is typically done using `try` and `except` blocks. Here's how it works:\n",
        "\n",
        "```python\n",
        "try:\n",
        "    # Code that may cause an error goes here\n",
        "    result = 10 / 0  # Example of potential error (division by zero)\n",
        "except:\n",
        "    # Code to handle the error goes here\n",
        "    print(\"An error occurred\")\n",
        "```\n",
        "\n",
        "In this example, the code inside the `try` block is executed. If an error occurs during the execution of this code, the program will not crash. Instead, Python will jump to the `except` block, allowing you to handle the error gracefully.\n",
        "\n",
        "You can also specify the specific type of exception to catch and handle:\n",
        "\n",
        "```python\n",
        "try:\n",
        "    result = 10 / 0  # Example of potential error (division by zero)\n",
        "except ZeroDivisionError:\n",
        "    print(\"Cannot divide by zero\")\n",
        "except:\n",
        "    print(\"An error occurred\")\n",
        "```\n",
        "\n",
        "This way, you can have different error handling routines for different types of errors. Additionally, you can use the `finally` block to execute code regardless of whether an exception occurs:\n",
        "\n",
        "```python\n",
        "try:\n",
        "    result = 10 / 0  # Example of potential error (division by zero)\n",
        "except ZeroDivisionError:\n",
        "    print(\"Cannot divide by zero\")\n",
        "except:\n",
        "    print(\"An error occurred\")\n",
        "finally:\n",
        "    print(\"Execution completed\")\n",
        "```\n",
        "\n",
        "Using exception handling allows your program to continue executing even if it encounters errors, providing a way to gracefully handle unexpected situations and prevent crashes."
      ],
      "metadata": {
        "id": "Ze-z7_XKc4XK"
      }
    },
    {
      "cell_type": "markdown",
      "source": [
        "14. What is the purpose of the try clause? What is the purpose of the except clause?\n",
        "\n",
        "Ans.The `try` clause in Python is used to enclose the code that you anticipate might raise an exception or encounter an error during its execution. The purpose of the `try` clause is to \"try\" executing the code within its block. If an error occurs while executing the code inside the `try` block, Python will stop executing that block and jump to the corresponding `except` block (if one exists). Essentially, the `try` block is where you specify the code that might potentially raise an exception.\n",
        "\n",
        "The `except` clause, on the other hand, is used to define the code that should be executed if a particular type of exception occurs within the associated `try` block. The purpose of the `except` clause is to handle or catch exceptions that occur during the execution of the code in the `try` block. You can have multiple `except` clauses to handle different types of exceptions, allowing you to provide custom error handling routines based on the specific type of error encountered.\n",
        "\n",
        "Here's an example to illustrate the use of `try` and `except`:\n",
        "\n",
        "```python\n",
        "try:\n",
        "    result = 10 / 0  # Potential division by zero error\n",
        "except ZeroDivisionError:\n",
        "    print(\"Error: Cannot divide by zero\")\n",
        "```\n"
      ],
      "metadata": {
        "id": "fSQIFRrrdIUb"
      }
    }
  ]
}